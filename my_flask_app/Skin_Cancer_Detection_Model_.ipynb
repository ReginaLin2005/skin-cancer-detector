{
  "nbformat": 4,
  "nbformat_minor": 0,
  "metadata": {
    "colab": {
      "provenance": [],
      "authorship_tag": "ABX9TyMP6i2caZ9wJ64lf5XmyfUU",
      "include_colab_link": true
    },
    "kernelspec": {
      "name": "python3",
      "display_name": "Python 3"
    },
    "language_info": {
      "name": "python"
    }
  },
  "cells": [
    {
      "cell_type": "markdown",
      "metadata": {
        "id": "view-in-github",
        "colab_type": "text"
      },
      "source": [
        "<a href=\"https://colab.research.google.com/github/ReginaLin2005/skin-cancer-detector/blob/skin-cancer-detection-model/Skin_Cancer_Detection_Model_.ipynb\" target=\"_parent\"><img src=\"https://colab.research.google.com/assets/colab-badge.svg\" alt=\"Open In Colab\"/></a>"
      ]
    },
    {
      "cell_type": "code",
      "source": [
        "from google.colab import drive\n",
        "drive.mount(\"/content/drive\")"
      ],
      "metadata": {
        "colab": {
          "base_uri": "https://localhost:8080/"
        },
        "id": "JaEGHZIjCTmo",
        "outputId": "b9eb9a0c-89ce-48dd-b54e-d7003cc0b882"
      },
      "execution_count": 1,
      "outputs": [
        {
          "output_type": "stream",
          "name": "stdout",
          "text": [
            "Mounted at /content/drive\n"
          ]
        }
      ]
    },
    {
      "cell_type": "code",
      "source": [
        "from tensorflow.keras.preprocessing.image import ImageDataGenerator\n",
        "import tensorflow_hub as hub\n",
        "import tensorflow as tf\n",
        "import pandas as pd\n",
        "import numpy as np\n",
        "from PIL import Image\n",
        "import os\n",
        "from sklearn.model_selection import train_test_split\n",
        "from tensorflow.keras.preprocessing.image import img_to_array, array_to_img\n",
        "from tensorflow.keras.models import load_model"
      ],
      "metadata": {
        "id": "QTz1v2fbPyEE"
      },
      "execution_count": 2,
      "outputs": []
    },
    {
      "cell_type": "code",
      "source": [
        "X = []\n",
        "y = []\n",
        "\n",
        "benign_path = '/content/drive/MyDrive/dataset/benign'\n",
        "malignant_path = '/content/drive/MyDrive/dataset/malignant'\n",
        "malignant_path_2 = '/content/drive/MyDrive/skin_cancer_dataset'"
      ],
      "metadata": {
        "id": "qYgNC0H8WDEg"
      },
      "execution_count": 3,
      "outputs": []
    },
    {
      "cell_type": "code",
      "source": [
        "# Function to load images from a directory\n",
        "def load_images_from_folder(folder, label):\n",
        "    for filename in os.listdir(folder):\n",
        "        if filename.endswith('.jpg') or filename.endswith('.png'):  # Ensure it's an image\n",
        "            img_path = os.path.join(folder, filename)\n",
        "            try:\n",
        "                img = Image.open(img_path).convert('RGB')  # Convert image to RGB\n",
        "                img = img.resize((224, 224))  # Resize to match input size of the model\n",
        "                img = np.array(img)  # Convert image to NumPy array\n",
        "                X.append(img)\n",
        "                y.append(label)\n",
        "            except Exception as e:\n",
        "                print(f\"Error loading image {filename}: {e}\")"
      ],
      "metadata": {
        "id": "7Er-pq4P8GaU"
      },
      "execution_count": 4,
      "outputs": []
    },
    {
      "cell_type": "code",
      "source": [
        "# Load benign images (label 0)\n",
        "load_images_from_folder(benign_path, 0)\n",
        "\n",
        "# Load malignant images (label 1)\n",
        "load_images_from_folder(malignant_path, 1)\n",
        "#load_images_from_folder(malignant_path_2, 1)\n",
        "\n",
        "# Convert lists to NumPy arrays for use in ML models\n",
        "X = np.array(X)\n",
        "y = np.array(y)"
      ],
      "metadata": {
        "id": "C23ktU7u8NOP"
      },
      "execution_count": 5,
      "outputs": []
    },
    {
      "cell_type": "code",
      "source": [
        "X"
      ],
      "metadata": {
        "colab": {
          "base_uri": "https://localhost:8080/"
        },
        "id": "bcqYB6D16BYO",
        "outputId": "639588cd-c610-401d-da34-5badd6c2e8d1"
      },
      "execution_count": 6,
      "outputs": [
        {
          "output_type": "execute_result",
          "data": {
            "text/plain": [
              "array([[[[234, 154, 147],\n",
              "         [235, 156, 149],\n",
              "         [237, 160, 150],\n",
              "         ...,\n",
              "         [229, 163, 137],\n",
              "         [230, 158, 136],\n",
              "         [230, 158, 143]],\n",
              "\n",
              "        [[233, 155, 145],\n",
              "         [233, 159, 148],\n",
              "         [236, 160, 146],\n",
              "         ...,\n",
              "         [230, 163, 146],\n",
              "         [228, 163, 143],\n",
              "         [228, 160, 137]],\n",
              "\n",
              "        [[234, 158, 145],\n",
              "         [233, 155, 143],\n",
              "         [238, 156, 145],\n",
              "         ...,\n",
              "         [227, 161, 139],\n",
              "         [228, 162, 140],\n",
              "         [223, 157, 133]],\n",
              "\n",
              "        ...,\n",
              "\n",
              "        [[223, 155, 136],\n",
              "         [222, 152, 127],\n",
              "         [223, 151, 126],\n",
              "         ...,\n",
              "         [214, 143, 121],\n",
              "         [215, 141, 128],\n",
              "         [215, 146, 131]],\n",
              "\n",
              "        [[220, 152, 129],\n",
              "         [223, 152, 132],\n",
              "         [219, 149, 124],\n",
              "         ...,\n",
              "         [213, 138, 119],\n",
              "         [217, 145, 130],\n",
              "         [215, 146, 130]],\n",
              "\n",
              "        [[223, 152, 134],\n",
              "         [223, 152, 132],\n",
              "         [223, 148, 127],\n",
              "         ...,\n",
              "         [218, 143, 124],\n",
              "         [218, 147, 129],\n",
              "         [217, 148, 133]]],\n",
              "\n",
              "\n",
              "       [[[242, 183, 241],\n",
              "         [243, 186, 241],\n",
              "         [242, 183, 239],\n",
              "         ...,\n",
              "         [235, 173, 222],\n",
              "         [234, 168, 206],\n",
              "         [232, 164, 201]],\n",
              "\n",
              "        [[243, 183, 243],\n",
              "         [241, 183, 242],\n",
              "         [239, 180, 238],\n",
              "         ...,\n",
              "         [235, 172, 217],\n",
              "         [232, 166, 202],\n",
              "         [229, 162, 197]],\n",
              "\n",
              "        [[242, 187, 245],\n",
              "         [242, 184, 243],\n",
              "         [241, 185, 246],\n",
              "         ...,\n",
              "         [232, 169, 214],\n",
              "         [233, 168, 202],\n",
              "         [230, 163, 196]],\n",
              "\n",
              "        ...,\n",
              "\n",
              "        [[219, 183, 221],\n",
              "         [224, 183, 227],\n",
              "         [222, 182, 234],\n",
              "         ...,\n",
              "         [234, 196, 253],\n",
              "         [231, 196, 252],\n",
              "         [237, 200, 252]],\n",
              "\n",
              "        [[218, 179, 223],\n",
              "         [224, 183, 227],\n",
              "         [220, 182, 231],\n",
              "         ...,\n",
              "         [231, 193, 254],\n",
              "         [240, 201, 255],\n",
              "         [245, 207, 255]],\n",
              "\n",
              "        [[217, 180, 224],\n",
              "         [222, 181, 223],\n",
              "         [221, 182, 229],\n",
              "         ...,\n",
              "         [229, 193, 255],\n",
              "         [235, 200, 254],\n",
              "         [234, 196, 253]]],\n",
              "\n",
              "\n",
              "       [[[181, 147, 172],\n",
              "         [181, 147, 174],\n",
              "         [182, 146, 174],\n",
              "         ...,\n",
              "         [178, 139, 166],\n",
              "         [181, 138, 165],\n",
              "         [174, 134, 161]],\n",
              "\n",
              "        [[177, 143, 170],\n",
              "         [180, 147, 174],\n",
              "         [182, 150, 174],\n",
              "         ...,\n",
              "         [181, 142, 169],\n",
              "         [176, 136, 163],\n",
              "         [174, 134, 161]],\n",
              "\n",
              "        [[176, 142, 167],\n",
              "         [177, 143, 170],\n",
              "         [181, 145, 173],\n",
              "         ...,\n",
              "         [178, 140, 165],\n",
              "         [173, 135, 160],\n",
              "         [169, 133, 159]],\n",
              "\n",
              "        ...,\n",
              "\n",
              "        [[169, 125, 152],\n",
              "         [167, 118, 148],\n",
              "         [169, 129, 156],\n",
              "         ...,\n",
              "         [138, 110, 125],\n",
              "         [133, 102, 117],\n",
              "         [129,  98, 113]],\n",
              "\n",
              "        [[166, 127, 154],\n",
              "         [167, 127, 153],\n",
              "         [167, 131, 157],\n",
              "         ...,\n",
              "         [135, 107, 122],\n",
              "         [132,  99, 116],\n",
              "         [123,  92, 108]],\n",
              "\n",
              "        [[164, 125, 154],\n",
              "         [162, 126, 152],\n",
              "         [167, 134, 163],\n",
              "         ...,\n",
              "         [136, 103, 120],\n",
              "         [130,  97, 114],\n",
              "         [122,  91, 109]]],\n",
              "\n",
              "\n",
              "       ...,\n",
              "\n",
              "\n",
              "       [[[191, 186, 180],\n",
              "         [191, 186, 180],\n",
              "         [191, 186, 180],\n",
              "         ...,\n",
              "         [197, 192, 188],\n",
              "         [196, 191, 187],\n",
              "         [195, 190, 186]],\n",
              "\n",
              "        [[191, 186, 180],\n",
              "         [191, 186, 180],\n",
              "         [192, 187, 181],\n",
              "         ...,\n",
              "         [197, 192, 188],\n",
              "         [196, 191, 187],\n",
              "         [196, 191, 187]],\n",
              "\n",
              "        [[191, 186, 180],\n",
              "         [192, 187, 181],\n",
              "         [192, 187, 181],\n",
              "         ...,\n",
              "         [198, 193, 189],\n",
              "         [197, 192, 188],\n",
              "         [197, 192, 188]],\n",
              "\n",
              "        ...,\n",
              "\n",
              "        [[197, 181, 165],\n",
              "         [197, 181, 165],\n",
              "         [197, 181, 165],\n",
              "         ...,\n",
              "         [184, 161, 143],\n",
              "         [176, 150, 133],\n",
              "         [169, 143, 126]],\n",
              "\n",
              "        [[197, 181, 165],\n",
              "         [197, 181, 165],\n",
              "         [197, 181, 165],\n",
              "         ...,\n",
              "         [182, 159, 141],\n",
              "         [177, 151, 136],\n",
              "         [171, 145, 130]],\n",
              "\n",
              "        [[197, 181, 165],\n",
              "         [197, 181, 165],\n",
              "         [197, 181, 165],\n",
              "         ...,\n",
              "         [184, 161, 143],\n",
              "         [182, 156, 143],\n",
              "         [179, 153, 140]]],\n",
              "\n",
              "\n",
              "       [[[186, 142, 139],\n",
              "         [191, 146, 140],\n",
              "         [193, 146, 138],\n",
              "         ...,\n",
              "         [194, 163, 161],\n",
              "         [190, 161, 157],\n",
              "         [191, 158, 151]],\n",
              "\n",
              "        [[183, 144, 139],\n",
              "         [193, 145, 145],\n",
              "         [197, 149, 145],\n",
              "         ...,\n",
              "         [196, 165, 163],\n",
              "         [196, 163, 158],\n",
              "         [192, 159, 150]],\n",
              "\n",
              "        [[178, 137, 131],\n",
              "         [187, 142, 139],\n",
              "         [195, 150, 145],\n",
              "         ...,\n",
              "         [200, 166, 165],\n",
              "         [196, 162, 160],\n",
              "         [193, 158, 152]],\n",
              "\n",
              "        ...,\n",
              "\n",
              "        [[100,  71,  65],\n",
              "         [107,  78,  72],\n",
              "         [122,  93,  85],\n",
              "         ...,\n",
              "         [114,  87,  80],\n",
              "         [110,  82,  78],\n",
              "         [100,  71,  67]],\n",
              "\n",
              "        [[ 96,  67,  63],\n",
              "         [ 94,  64,  66],\n",
              "         [101,  70,  68],\n",
              "         ...,\n",
              "         [109,  80,  74],\n",
              "         [100,  75,  70],\n",
              "         [ 95,  68,  61]],\n",
              "\n",
              "        [[105,  76,  68],\n",
              "         [107,  79,  75],\n",
              "         [106,  78,  67],\n",
              "         ...,\n",
              "         [103,  74,  70],\n",
              "         [100,  71,  67],\n",
              "         [ 90,  61,  57]]],\n",
              "\n",
              "\n",
              "       [[[212, 181, 187],\n",
              "         [211, 180, 188],\n",
              "         [210, 177, 186],\n",
              "         ...,\n",
              "         [206, 175, 191],\n",
              "         [203, 170, 187],\n",
              "         [205, 170, 190]],\n",
              "\n",
              "        [[214, 182, 193],\n",
              "         [216, 184, 195],\n",
              "         [216, 184, 195],\n",
              "         ...,\n",
              "         [201, 169, 180],\n",
              "         [204, 171, 188],\n",
              "         [209, 172, 189]],\n",
              "\n",
              "        [[217, 187, 197],\n",
              "         [218, 188, 198],\n",
              "         [215, 189, 202],\n",
              "         ...,\n",
              "         [200, 165, 172],\n",
              "         [201, 163, 178],\n",
              "         [200, 162, 177]],\n",
              "\n",
              "        ...,\n",
              "\n",
              "        [[208, 170, 185],\n",
              "         [207, 169, 182],\n",
              "         [207, 175, 180],\n",
              "         ...,\n",
              "         [200, 160, 168],\n",
              "         [197, 157, 165],\n",
              "         [196, 157, 162]],\n",
              "\n",
              "        [[207, 169, 182],\n",
              "         [204, 167, 175],\n",
              "         [208, 173, 180],\n",
              "         ...,\n",
              "         [198, 159, 164],\n",
              "         [196, 156, 164],\n",
              "         [194, 155, 160]],\n",
              "\n",
              "        [[205, 170, 177],\n",
              "         [204, 167, 175],\n",
              "         [208, 173, 180],\n",
              "         ...,\n",
              "         [193, 154, 159],\n",
              "         [194, 155, 160],\n",
              "         [192, 152, 160]]]], dtype=uint8)"
            ]
          },
          "metadata": {},
          "execution_count": 6
        }
      ]
    },
    {
      "cell_type": "code",
      "source": [
        "y"
      ],
      "metadata": {
        "colab": {
          "base_uri": "https://localhost:8080/"
        },
        "id": "CsTl3jGx6CZK",
        "outputId": "0328546a-2df8-4d8f-ad19-627ca4ed7fa7"
      },
      "execution_count": 7,
      "outputs": [
        {
          "output_type": "execute_result",
          "data": {
            "text/plain": [
              "array([0, 0, 0, ..., 1, 1, 1])"
            ]
          },
          "metadata": {},
          "execution_count": 7
        }
      ]
    },
    {
      "cell_type": "code",
      "source": [
        "X_train, X_val, y_train, y_val = train_test_split(X, y, test_size=0.2, random_state=42)"
      ],
      "metadata": {
        "id": "cpN6kNc_V40P"
      },
      "execution_count": 8,
      "outputs": []
    },
    {
      "cell_type": "code",
      "execution_count": 9,
      "metadata": {
        "colab": {
          "base_uri": "https://localhost:8080/"
        },
        "id": "fJOdQRtj3Opx",
        "outputId": "00de6055-6784-4a03-c2f1-f9933cc4ef72"
      },
      "outputs": [
        {
          "output_type": "stream",
          "name": "stderr",
          "text": [
            "/usr/local/lib/python3.10/dist-packages/keras/src/layers/convolutional/base_conv.py:107: UserWarning: Do not pass an `input_shape`/`input_dim` argument to a layer. When using Sequential models, prefer using an `Input(shape)` object as the first layer in the model instead.\n",
            "  super().__init__(activity_regularizer=activity_regularizer, **kwargs)\n"
          ]
        }
      ],
      "source": [
        "# Define the model\n",
        "model = tf.keras.models.Sequential([\n",
        "    tf.keras.layers.Conv2D(64, (3, 3), activation='relu', input_shape=(150, 150, 3)),\n",
        "    tf.keras.layers.MaxPooling2D(2, 2),\n",
        "\n",
        "    tf.keras.layers.Conv2D(128, (3, 3), activation='relu'),\n",
        "    tf.keras.layers.MaxPooling2D(2, 2),\n",
        "\n",
        "    tf.keras.layers.Conv2D(128, (3, 3), activation='relu'),\n",
        "    tf.keras.layers.MaxPooling2D(2, 2),\n",
        "\n",
        "    tf.keras.layers.Conv2D(256, (3, 3), activation='relu'),\n",
        "    tf.keras.layers.MaxPooling2D(2, 2),\n",
        "\n",
        "    # Adding Batch Normalization\n",
        "    tf.keras.layers.BatchNormalization(),\n",
        "\n",
        "    # Optional additional Conv2D layer\n",
        "    tf.keras.layers.Conv2D(256, (3, 3), activation='relu'),\n",
        "    tf.keras.layers.MaxPooling2D(2, 2),\n",
        "\n",
        "    tf.keras.layers.Flatten(),\n",
        "\n",
        "    tf.keras.layers.Dense(512, activation='relu'),\n",
        "    tf.keras.layers.Dropout(0.5),  # Adding Dropout for regularization\n",
        "    tf.keras.layers.Dense(1, activation='sigmoid')  # Binary classification output\n",
        "])\n",
        "\n",
        "# Compile the model\n",
        "model.compile(optimizer='adam', loss='binary_crossentropy', metrics=['accuracy'])"
      ]
    },
    {
      "cell_type": "code",
      "source": [
        "# Resize and normalize the images\n",
        "X_train_resized = [tf.image.resize(image, (150, 150)) for image in X_train]\n",
        "X_train_resized = np.array(X_train_resized) / 255.0  # Normalize pixel values to [0, 1]\n",
        "\n",
        "# Fit the model\n",
        "history = model.fit(\n",
        "    X_train_resized,\n",
        "    y_train,\n",
        "    epochs=5\n",
        ")"
      ],
      "metadata": {
        "colab": {
          "base_uri": "https://localhost:8080/"
        },
        "id": "9HmejDblQLuN",
        "outputId": "26bbf3c9-20de-4a11-c574-37178ad359ec"
      },
      "execution_count": 10,
      "outputs": [
        {
          "output_type": "stream",
          "name": "stdout",
          "text": [
            "Epoch 1/5\n",
            "\u001b[1m86/86\u001b[0m \u001b[32m━━━━━━━━━━━━━━━━━━━━\u001b[0m\u001b[37m\u001b[0m \u001b[1m353s\u001b[0m 4s/step - accuracy: 0.6938 - loss: 0.5821\n",
            "Epoch 2/5\n",
            "\u001b[1m86/86\u001b[0m \u001b[32m━━━━━━━━━━━━━━━━━━━━\u001b[0m\u001b[37m\u001b[0m \u001b[1m373s\u001b[0m 4s/step - accuracy: 0.7971 - loss: 0.4233\n",
            "Epoch 3/5\n",
            "\u001b[1m86/86\u001b[0m \u001b[32m━━━━━━━━━━━━━━━━━━━━\u001b[0m\u001b[37m\u001b[0m \u001b[1m383s\u001b[0m 4s/step - accuracy: 0.8020 - loss: 0.4011\n",
            "Epoch 4/5\n",
            "\u001b[1m86/86\u001b[0m \u001b[32m━━━━━━━━━━━━━━━━━━━━\u001b[0m\u001b[37m\u001b[0m \u001b[1m377s\u001b[0m 4s/step - accuracy: 0.7907 - loss: 0.4262\n",
            "Epoch 5/5\n",
            "\u001b[1m86/86\u001b[0m \u001b[32m━━━━━━━━━━━━━━━━━━━━\u001b[0m\u001b[37m\u001b[0m \u001b[1m380s\u001b[0m 4s/step - accuracy: 0.8256 - loss: 0.3716\n"
          ]
        }
      ]
    },
    {
      "cell_type": "code",
      "source": [
        "# Resize validation images to 150x150 and normalize pixel values\n",
        "X_val_resized = np.array([img_to_array(array_to_img(img, scale=False).resize((150, 150))) for img in X_val])\n",
        "X_val_resized = X_val_resized / 255.0  # Normalize the images to [0, 1] range\n",
        "\n",
        "# Evaluate the model on the validation data\n",
        "val_loss, val_accuracy = model.evaluate(X_val_resized, y_val)\n",
        "\n",
        "print(f\"Validation Loss: {val_loss}\")\n",
        "print(f\"Validation Accuracy: {val_accuracy}\")\n"
      ],
      "metadata": {
        "colab": {
          "base_uri": "https://localhost:8080/"
        },
        "id": "3naitlklD58n",
        "outputId": "a45dcdb8-c379-4ff0-ed42-a12336dca5b0"
      },
      "execution_count": 11,
      "outputs": [
        {
          "output_type": "stream",
          "name": "stdout",
          "text": [
            "\u001b[1m22/22\u001b[0m \u001b[32m━━━━━━━━━━━━━━━━━━━━\u001b[0m\u001b[37m\u001b[0m \u001b[1m26s\u001b[0m 1s/step - accuracy: 0.7170 - loss: 0.5977\n",
            "Validation Loss: 0.5992485880851746\n",
            "Validation Accuracy: 0.7163742780685425\n"
          ]
        }
      ]
    },
    {
      "cell_type": "code",
      "source": [
        "# Save the trained model to a file\n",
        "model.save('cancer_detection_model.h5')"
      ],
      "metadata": {
        "colab": {
          "base_uri": "https://localhost:8080/"
        },
        "id": "6M2MwReUDKpk",
        "outputId": "f4eae7b7-5aea-4adf-9ce2-333cd0d53a63"
      },
      "execution_count": 12,
      "outputs": [
        {
          "output_type": "stream",
          "name": "stderr",
          "text": [
            "WARNING:absl:You are saving your model as an HDF5 file via `model.save()` or `keras.saving.save_model(model)`. This file format is considered legacy. We recommend using instead the native Keras format, e.g. `model.save('my_model.keras')` or `keras.saving.save_model(model, 'my_model.keras')`. \n"
          ]
        }
      ]
    },
    {
      "cell_type": "code",
      "source": [
        "# Load the saved model\n",
        "loaded_model = load_model('cancer_detection_model.h5')"
      ],
      "metadata": {
        "colab": {
          "base_uri": "https://localhost:8080/"
        },
        "id": "cujBQXRmDTmN",
        "outputId": "7e6714ef-ccee-48b5-8478-a805e70d3c7f"
      },
      "execution_count": 13,
      "outputs": [
        {
          "output_type": "stream",
          "name": "stderr",
          "text": [
            "WARNING:absl:Compiled the loaded model, but the compiled metrics have yet to be built. `model.compile_metrics` will be empty until you train or evaluate the model.\n"
          ]
        }
      ]
    },
    {
      "cell_type": "code",
      "source": [
        "def preprocess_image(image_path):\n",
        "    # Load the image and resize it to (150, 150) to match the model's input shape\n",
        "    img = Image.open(image_path)\n",
        "    img = img.resize((150, 150))  # Resize to 150x150\n",
        "    img_array = np.array(img)     # Convert to NumPy array\n",
        "    img_array = img_array / 255.0  # Normalize pixel values to [0, 1]\n",
        "    img_array = np.expand_dims(img_array, axis=0)  # Add a batch dimension\n",
        "    return img_array"
      ],
      "metadata": {
        "id": "-2yiNzZIDXCR"
      },
      "execution_count": 14,
      "outputs": []
    },
    {
      "cell_type": "code",
      "source": [
        "def predict_image(model, image_path):\n",
        "    # Preprocess the input image\n",
        "    processed_image = preprocess_image(image_path)\n",
        "\n",
        "    # Make a prediction using the model\n",
        "    prediction = loaded_model.predict(processed_image)\n",
        "\n",
        "    # Since you're doing binary classification, the output will be a probability\n",
        "    # You can set a threshold (e.g., 0.5) to classify benign (0) or malignant (1)\n",
        "    if prediction[0] > 0.5:\n",
        "        return \"Malignant\"\n",
        "    else:\n",
        "        return \"Benign\""
      ],
      "metadata": {
        "id": "VMXmXBSqDZ05"
      },
      "execution_count": 15,
      "outputs": []
    }
  ]
}
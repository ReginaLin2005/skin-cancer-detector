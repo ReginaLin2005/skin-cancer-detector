{
  "nbformat": 4,
  "nbformat_minor": 0,
  "metadata": {
    "colab": {
      "provenance": [],
      "authorship_tag": "ABX9TyPJC/K1UaH79nCauVDG4uWf",
      "include_colab_link": true
    },
    "kernelspec": {
      "name": "python3",
      "display_name": "Python 3"
    },
    "language_info": {
      "name": "python"
    }
  },
  "cells": [
    {
      "cell_type": "markdown",
      "metadata": {
        "id": "view-in-github",
        "colab_type": "text"
      },
      "source": [
        "<a href=\"https://colab.research.google.com/github/ReginaLin2005/skin-cancer-detector/blob/skin-cancer-detection-model/Spot_Model_for_Flask_.ipynb\" target=\"_parent\"><img src=\"https://colab.research.google.com/assets/colab-badge.svg\" alt=\"Open In Colab\"/></a>"
      ]
    },
    {
      "cell_type": "code",
      "source": [
        "from tensorflow.keras.preprocessing.image import ImageDataGenerator\n",
        "import tensorflow_hub as hub\n",
        "import tensorflow as tf\n",
        "import pandas as pd\n",
        "import numpy as np\n",
        "from PIL import Image\n",
        "import os\n",
        "from sklearn.model_selection import train_test_split\n",
        "from tensorflow.keras.preprocessing.image import img_to_array, array_to_img\n",
        "from tensorflow.keras.models import load_model"
      ],
      "metadata": {
        "id": "QTz1v2fbPyEE"
      },
      "execution_count": null,
      "outputs": []
    },
    {
      "cell_type": "code",
      "source": [
        "# Load the saved model\n",
        "loaded_model = load_model('cancer_detection_model.h5')"
      ],
      "metadata": {
        "colab": {
          "base_uri": "https://localhost:8080/"
        },
        "id": "cujBQXRmDTmN",
        "outputId": "7e6714ef-ccee-48b5-8478-a805e70d3c7f"
      },
      "execution_count": null,
      "outputs": [
        {
          "output_type": "stream",
          "name": "stderr",
          "text": [
            "WARNING:absl:Compiled the loaded model, but the compiled metrics have yet to be built. `model.compile_metrics` will be empty until you train or evaluate the model.\n"
          ]
        }
      ]
    },
    {
      "cell_type": "code",
      "source": [
        "def preprocess_image(image_path):\n",
        "    # Load the image and resize it to (150, 150) to match the model's input shape\n",
        "    img = Image.open(image_path)\n",
        "    img = img.resize((150, 150))  # Resize to 150x150\n",
        "    img_array = np.array(img)     # Convert to NumPy array\n",
        "    img_array = img_array / 255.0  # Normalize pixel values to [0, 1]\n",
        "    img_array = np.expand_dims(img_array, axis=0)  # Add a batch dimension\n",
        "    return img_array"
      ],
      "metadata": {
        "id": "-2yiNzZIDXCR"
      },
      "execution_count": null,
      "outputs": []
    },
    {
      "cell_type": "code",
      "source": [
        "def predict_image(model, image_path):\n",
        "    # Preprocess the input image\n",
        "    processed_image = preprocess_image(image_path)\n",
        "\n",
        "    # Make a prediction using the model\n",
        "    prediction = loaded_model.predict(processed_image)\n",
        "\n",
        "    # Since you're doing binary classification, the output will be a probability\n",
        "    # You can set a threshold (e.g., 0.5) to classify benign (0) or malignant (1)\n",
        "    if prediction[0] > 0.5:\n",
        "        return \"Malignant\"\n",
        "    else:\n",
        "        return \"Benign\""
      ],
      "metadata": {
        "id": "VMXmXBSqDZ05"
      },
      "execution_count": null,
      "outputs": []
    }
  ]
}